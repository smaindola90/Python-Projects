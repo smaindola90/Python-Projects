{
    "cells": [
        {
            "metadata": {},
            "cell_type": "markdown",
            "source": "### 2^10"
        },
        {
            "metadata": {},
            "cell_type": "code",
            "source": "a = 2\nb = 10\nc = a ** b\nprint(c)",
            "execution_count": 1,
            "outputs": [
                {
                    "output_type": "stream",
                    "text": "1024\n",
                    "name": "stdout"
                }
            ]
        },
        {
            "metadata": {},
            "cell_type": "code",
            "source": "",
            "execution_count": null,
            "outputs": []
        }
    ],
    "metadata": {
        "kernelspec": {
            "name": "python3",
            "display_name": "Python 3.10",
            "language": "python"
        },
        "language_info": {
            "name": "python",
            "version": "3.10.9",
            "mimetype": "text/x-python",
            "codemirror_mode": {
                "name": "ipython",
                "version": 3
            },
            "pygments_lexer": "ipython3",
            "nbconvert_exporter": "python",
            "file_extension": ".py"
        }
    },
    "nbformat": 4,
    "nbformat_minor": 1
}